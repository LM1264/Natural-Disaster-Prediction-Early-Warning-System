{
  "nbformat": 4,
  "nbformat_minor": 0,
  "metadata": {
    "colab": {
      "provenance": []
    },
    "kernelspec": {
      "name": "python3",
      "display_name": "Python 3"
    },
    "language_info": {
      "name": "python"
    }
  },
  "cells": [
    {
      "cell_type": "markdown",
      "source": [
        "**Project Title**\n",
        "\n",
        "Natural Disaster Prediction & Early Warning System\n",
        "\n",
        "**Problem Satement**\n",
        "\n",
        "Earthquakes are unpredictable natural disasters that cause severe loss of life and property worldwide. Despite continuous monitoring, the absence of reliable prediction and early warning systems limits disaster preparedness and risk management. There is a strong need to analyze historical seismic data to identify trends and patterns that can contribute toward building data-driven disaster prediction and early warning systems.\n",
        "\n",
        "**Description**\n",
        "\n",
        "This project focuses on analyzing earthquake data to identify trends and patterns that may assist in disaster prediction and early warning systems. It uses a dataset includes a record of the date, time, location, depth, magnitude, and source of every earthquake with a reported magnitude 5.5 or higher since 1965.\n",
        "\n",
        "Context About Dataset\n",
        "\n",
        "The National Earthquake Information Center (NEIC) determines the location and size of all significant earthquakes that occur worldwide and disseminates this information immediately to national and international agencies, scientists, critical facilities, and the general public. The NEIC compiles and provides to scientists and to the public an extensive seismic database that serves as a foundation for scientific research through the operation of modern digital national and global seismograph networks and cooperative international agreements. The NEIC is the national data center and archive for earthquake information.\n",
        "\n",
        "This dataset serves as the foundation for our project’s analysis, enabling the application of AI/ML techniques for natural disaster prediction and early warning insights."
      ],
      "metadata": {
        "id": "fGENVBNLe5OF"
      }
    },
    {
      "cell_type": "code",
      "execution_count": 1,
      "metadata": {
        "id": "hIJ7GoAiZYjd"
      },
      "outputs": [],
      "source": [
        "#import necessary libraries\n",
        "import pandas as pd"
      ]
    },
    {
      "cell_type": "code",
      "source": [
        "#load dataset\n",
        "df=pd.read_csv(\"/content/dbEarthquake.csv\")\n",
        "#display first and last few rows\n",
        "print(df.head())\n",
        "print(df.tail())"
      ],
      "metadata": {
        "colab": {
          "base_uri": "https://localhost:8080/"
        },
        "id": "jp2N8Nf68BpE",
        "outputId": "739625d7-f1b9-4edc-fceb-36a4819e73a0"
      },
      "execution_count": 2,
      "outputs": [
        {
          "output_type": "stream",
          "name": "stdout",
          "text": [
            "         Date      Time  Latitude  Longitude        Type  Depth  Depth Error  \\\n",
            "0  01-02-1965  13:44:18    19.246    145.616  Earthquake  131.6          NaN   \n",
            "1  01-04-1965  11:29:49     1.863    127.352  Earthquake   80.0          NaN   \n",
            "2  01-05-1965  18:05:58   -20.579   -173.972  Earthquake   20.0          NaN   \n",
            "3  01-08-1965  18:49:43   -59.076    -23.557  Earthquake   15.0          NaN   \n",
            "4  01-09-1965  13:32:50    11.938    126.427  Earthquake   15.0          NaN   \n",
            "\n",
            "   Depth Seismic Stations  Magnitude Magnitude Type  ...  \\\n",
            "0                     NaN        6.0             MW  ...   \n",
            "1                     NaN        5.8             MW  ...   \n",
            "2                     NaN        6.2             MW  ...   \n",
            "3                     NaN        5.8             MW  ...   \n",
            "4                     NaN        5.8             MW  ...   \n",
            "\n",
            "   Magnitude Seismic Stations  Azimuthal Gap  Horizontal Distance  \\\n",
            "0                         NaN            NaN                  NaN   \n",
            "1                         NaN            NaN                  NaN   \n",
            "2                         NaN            NaN                  NaN   \n",
            "3                         NaN            NaN                  NaN   \n",
            "4                         NaN            NaN                  NaN   \n",
            "\n",
            "   Horizontal Error  Root Mean Square            ID  Source Location Source  \\\n",
            "0               NaN               NaN  ISCGEM860706  ISCGEM          ISCGEM   \n",
            "1               NaN               NaN  ISCGEM860737  ISCGEM          ISCGEM   \n",
            "2               NaN               NaN  ISCGEM860762  ISCGEM          ISCGEM   \n",
            "3               NaN               NaN  ISCGEM860856  ISCGEM          ISCGEM   \n",
            "4               NaN               NaN  ISCGEM860890  ISCGEM          ISCGEM   \n",
            "\n",
            "  Magnitude Source     Status  \n",
            "0           ISCGEM  Automatic  \n",
            "1           ISCGEM  Automatic  \n",
            "2           ISCGEM  Automatic  \n",
            "3           ISCGEM  Automatic  \n",
            "4           ISCGEM  Automatic  \n",
            "\n",
            "[5 rows x 21 columns]\n",
            "             Date      Time  Latitude  Longitude        Type  Depth  \\\n",
            "23407  12/28/2016  08:22:12   38.3917  -118.8941  Earthquake  12.30   \n",
            "23408  12/28/2016  09:13:47   38.3777  -118.8957  Earthquake   8.80   \n",
            "23409  12/28/2016  12:38:51   36.9179   140.4262  Earthquake  10.00   \n",
            "23410  12/29/2016  22:30:19   -9.0283   118.6639  Earthquake  79.00   \n",
            "23411  12/30/2016  20:08:28   37.3973   141.4103  Earthquake  11.94   \n",
            "\n",
            "       Depth Error  Depth Seismic Stations  Magnitude Magnitude Type  ...  \\\n",
            "23407          1.2                    40.0        5.6             ML  ...   \n",
            "23408          2.0                    33.0        5.5             ML  ...   \n",
            "23409          1.8                     NaN        5.9            MWW  ...   \n",
            "23410          1.8                     NaN        6.3            MWW  ...   \n",
            "23411          2.2                     NaN        5.5             MB  ...   \n",
            "\n",
            "       Magnitude Seismic Stations  Azimuthal Gap  Horizontal Distance  \\\n",
            "23407                        18.0          42.47                0.120   \n",
            "23408                        18.0          48.58                0.129   \n",
            "23409                         NaN          91.00                0.992   \n",
            "23410                         NaN          26.00                3.553   \n",
            "23411                       428.0          97.00                0.681   \n",
            "\n",
            "       Horizontal Error  Root Mean Square          ID Source Location Source  \\\n",
            "23407               NaN            0.1898  NN00570710     NN              NN   \n",
            "23408               NaN            0.2187  NN00570744     NN              NN   \n",
            "23409               4.8            1.5200  US10007NAF     US              US   \n",
            "23410               6.0            1.4300  US10007NL0     US              US   \n",
            "23411               4.5            0.9100  US10007NTD     US              US   \n",
            "\n",
            "      Magnitude Source    Status  \n",
            "23407               NN  Reviewed  \n",
            "23408               NN  Reviewed  \n",
            "23409               US  Reviewed  \n",
            "23410               US  Reviewed  \n",
            "23411               US  Reviewed  \n",
            "\n",
            "[5 rows x 21 columns]\n"
          ]
        }
      ]
    },
    {
      "cell_type": "code",
      "source": [
        "#basic info\n",
        "print(df.info())\n",
        "print(df.describe())\n",
        "print(df.isnull().sum())"
      ],
      "metadata": {
        "colab": {
          "base_uri": "https://localhost:8080/"
        },
        "id": "2UawDZT8c-RJ",
        "outputId": "41c65db4-b4b1-4bfb-e162-a5fff8dceb0b"
      },
      "execution_count": 3,
      "outputs": [
        {
          "output_type": "stream",
          "name": "stdout",
          "text": [
            "<class 'pandas.core.frame.DataFrame'>\n",
            "RangeIndex: 23412 entries, 0 to 23411\n",
            "Data columns (total 21 columns):\n",
            " #   Column                      Non-Null Count  Dtype  \n",
            "---  ------                      --------------  -----  \n",
            " 0   Date                        23412 non-null  object \n",
            " 1   Time                        23412 non-null  object \n",
            " 2   Latitude                    23412 non-null  float64\n",
            " 3   Longitude                   23412 non-null  float64\n",
            " 4   Type                        23412 non-null  object \n",
            " 5   Depth                       23412 non-null  float64\n",
            " 6   Depth Error                 4461 non-null   float64\n",
            " 7   Depth Seismic Stations      7097 non-null   float64\n",
            " 8   Magnitude                   23412 non-null  float64\n",
            " 9   Magnitude Type              23409 non-null  object \n",
            " 10  Magnitude Error             327 non-null    float64\n",
            " 11  Magnitude Seismic Stations  2564 non-null   float64\n",
            " 12  Azimuthal Gap               7299 non-null   float64\n",
            " 13  Horizontal Distance         1604 non-null   float64\n",
            " 14  Horizontal Error            1156 non-null   float64\n",
            " 15  Root Mean Square            17352 non-null  float64\n",
            " 16  ID                          23412 non-null  object \n",
            " 17  Source                      23412 non-null  object \n",
            " 18  Location Source             23412 non-null  object \n",
            " 19  Magnitude Source            23412 non-null  object \n",
            " 20  Status                      23412 non-null  object \n",
            "dtypes: float64(12), object(9)\n",
            "memory usage: 3.8+ MB\n",
            "None\n",
            "           Latitude     Longitude         Depth  Depth Error  \\\n",
            "count  23412.000000  23412.000000  23412.000000  4461.000000   \n",
            "mean       1.679033     39.639961     70.767911     4.993115   \n",
            "std       30.113183    125.511959    122.651898     4.875184   \n",
            "min      -77.080000   -179.997000     -1.100000     0.000000   \n",
            "25%      -18.653000    -76.349750     14.522500     1.800000   \n",
            "50%       -3.568500    103.982000     33.000000     3.500000   \n",
            "75%       26.190750    145.026250     54.000000     6.300000   \n",
            "max       86.005000    179.998000    700.000000    91.295000   \n",
            "\n",
            "       Depth Seismic Stations     Magnitude  Magnitude Error  \\\n",
            "count             7097.000000  23412.000000       327.000000   \n",
            "mean               275.364098      5.882531         0.071820   \n",
            "std                162.141631      0.423066         0.051466   \n",
            "min                  0.000000      5.500000         0.000000   \n",
            "25%                146.000000      5.600000         0.046000   \n",
            "50%                255.000000      5.700000         0.059000   \n",
            "75%                384.000000      6.000000         0.075500   \n",
            "max                934.000000      9.100000         0.410000   \n",
            "\n",
            "       Magnitude Seismic Stations  Azimuthal Gap  Horizontal Distance  \\\n",
            "count                 2564.000000    7299.000000          1604.000000   \n",
            "mean                    48.944618      44.163532             3.992660   \n",
            "std                     62.943106      32.141486             5.377262   \n",
            "min                      0.000000       0.000000             0.004505   \n",
            "25%                     10.000000      24.100000             0.968750   \n",
            "50%                     28.000000      36.000000             2.319500   \n",
            "75%                     66.000000      54.000000             4.724500   \n",
            "max                    821.000000     360.000000            37.874000   \n",
            "\n",
            "       Horizontal Error  Root Mean Square  \n",
            "count       1156.000000      17352.000000  \n",
            "mean           7.662759          1.022784  \n",
            "std           10.430396          0.188545  \n",
            "min            0.085000          0.000000  \n",
            "25%            5.300000          0.900000  \n",
            "50%            6.700000          1.000000  \n",
            "75%            8.100000          1.130000  \n",
            "max           99.000000          3.440000  \n",
            "Date                              0\n",
            "Time                              0\n",
            "Latitude                          0\n",
            "Longitude                         0\n",
            "Type                              0\n",
            "Depth                             0\n",
            "Depth Error                   18951\n",
            "Depth Seismic Stations        16315\n",
            "Magnitude                         0\n",
            "Magnitude Type                    3\n",
            "Magnitude Error               23085\n",
            "Magnitude Seismic Stations    20848\n",
            "Azimuthal Gap                 16113\n",
            "Horizontal Distance           21808\n",
            "Horizontal Error              22256\n",
            "Root Mean Square               6060\n",
            "ID                                0\n",
            "Source                            0\n",
            "Location Source                   0\n",
            "Magnitude Source                  0\n",
            "Status                            0\n",
            "dtype: int64\n"
          ]
        }
      ]
    }
  ]
}